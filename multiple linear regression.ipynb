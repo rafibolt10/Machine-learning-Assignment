{
 "cells": [
  {
   "cell_type": "code",
   "execution_count": 2,
   "id": "d42ee433-86f0-4631-9a6b-d3830d69e1c1",
   "metadata": {},
   "outputs": [
    {
     "name": "stdout",
     "output_type": "stream",
     "text": [
      "                            OLS Regression Results                            \n",
      "==============================================================================\n",
      "Dep. Variable:       Final_Exam_Score   R-squared:                       1.000\n",
      "Model:                            OLS   Adj. R-squared:                    nan\n",
      "Method:                 Least Squares   F-statistic:                       nan\n",
      "Date:                Sat, 31 Aug 2024   Prob (F-statistic):                nan\n",
      "Time:                        22:44:16   Log-Likelihood:                 84.250\n",
      "No. Observations:                   3   AIC:                            -162.5\n",
      "Df Residuals:                       0   BIC:                            -165.2\n",
      "Df Model:                           2                                         \n",
      "Covariance Type:            nonrobust                                         \n",
      "========================================================================================\n",
      "                           coef    std err          t      P>|t|      [0.025      0.975]\n",
      "----------------------------------------------------------------------------------------\n",
      "const                    1.0012        inf          0        nan         nan         nan\n",
      "Hours_Studied           -6.6427        inf         -0        nan         nan         nan\n",
      "Previous_Test_Scores     1.8285        inf          0        nan         nan         nan\n",
      "Attendance           -2.132e-14        inf         -0        nan         nan         nan\n",
      "==============================================================================\n",
      "Omnibus:                          nan   Durbin-Watson:                   0.045\n",
      "Prob(Omnibus):                    nan   Jarque-Bera (JB):                0.531\n",
      "Skew:                           0.707   Prob(JB):                        0.767\n",
      "Kurtosis:                       1.500   Cond. No.                         443.\n",
      "==============================================================================\n",
      "\n",
      "Notes:\n",
      "[1] Standard Errors assume that the covariance matrix of the errors is correctly specified.\n",
      "[2] The input rank is higher than the number of observations.\n"
     ]
    },
    {
     "name": "stderr",
     "output_type": "stream",
     "text": [
      "C:\\Users\\Hai\\anaconda3\\Lib\\site-packages\\statsmodels\\stats\\stattools.py:74: ValueWarning: omni_normtest is not valid with less than 8 observations; 3 samples were given.\n",
      "  warn(\"omni_normtest is not valid with less than 8 observations; %i \"\n",
      "C:\\Users\\Hai\\anaconda3\\Lib\\site-packages\\statsmodels\\regression\\linear_model.py:1796: RuntimeWarning: divide by zero encountered in divide\n",
      "  return 1 - (np.divide(self.nobs - self.k_constant, self.df_resid)\n",
      "C:\\Users\\Hai\\anaconda3\\Lib\\site-packages\\statsmodels\\regression\\linear_model.py:1796: RuntimeWarning: invalid value encountered in scalar multiply\n",
      "  return 1 - (np.divide(self.nobs - self.k_constant, self.df_resid)\n",
      "C:\\Users\\Hai\\anaconda3\\Lib\\site-packages\\statsmodels\\regression\\linear_model.py:1718: RuntimeWarning: divide by zero encountered in scalar divide\n",
      "  return np.dot(wresid, wresid) / self.df_resid\n"
     ]
    }
   ],
   "source": [
    "import statsmodels.api as sm\n",
    "import pandas as pd\n",
    "\n",
    "# Creating a DataFrame from the data\n",
    "data = {\n",
    "    'Hours_Studied': [10, 8, ..., 12],\n",
    "    'Previous_Test_Scores': [85, 75, ..., 95],\n",
    "    'Attendance': [90, 80, ..., 95],\n",
    "    'Final_Exam_Score': [90, 85, ..., 95]\n",
    "}\n",
    "df = pd.DataFrame(data)\n",
    "\n",
    "# Convert the DataFrame to numeric type\n",
    "df = df.apply(pd.to_numeric, errors='coerce')\n",
    "\n",
    "# Drop rows with missing values\n",
    "df = df.dropna()\n",
    "\n",
    "# Independent variables\n",
    "X = df[['Hours_Studied', 'Previous_Test_Scores', 'Attendance']]\n",
    "\n",
    "# Dependent variable\n",
    "Y = df['Final_Exam_Score']\n",
    "\n",
    "# Adding a constant term\n",
    "X = sm.add_constant(X)\n",
    "\n",
    "# Fit the regression model\n",
    "model = sm.OLS(Y, X).fit()\n",
    "\n",
    "# Print the summary of the regression model\n",
    "print(model.summary())\n"
   ]
  },
  {
   "cell_type": "code",
   "execution_count": null,
   "id": "ee0c5877-dd6c-4696-a0cc-0bef024c17cd",
   "metadata": {},
   "outputs": [],
   "source": []
  },
  {
   "cell_type": "code",
   "execution_count": null,
   "id": "9c862bb3-a3be-4339-a318-8ffc482633eb",
   "metadata": {},
   "outputs": [],
   "source": []
  }
 ],
 "metadata": {
  "kernelspec": {
   "display_name": "Python 3 (ipykernel)",
   "language": "python",
   "name": "python3"
  },
  "language_info": {
   "codemirror_mode": {
    "name": "ipython",
    "version": 3
   },
   "file_extension": ".py",
   "mimetype": "text/x-python",
   "name": "python",
   "nbconvert_exporter": "python",
   "pygments_lexer": "ipython3",
   "version": "3.12.4"
  }
 },
 "nbformat": 4,
 "nbformat_minor": 5
}
